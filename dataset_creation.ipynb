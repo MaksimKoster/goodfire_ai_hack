{
 "cells": [
  {
   "cell_type": "code",
   "execution_count": 48,
   "metadata": {},
   "outputs": [
    {
     "name": "stderr",
     "output_type": "stream",
     "text": [
      "Generating train split: 100%|██████████| 2985/2985 [00:00<00:00, 254730.37 examples/s]\n"
     ]
    }
   ],
   "source": [
    "from datasets import load_from_disk, load_dataset\n",
    "\n",
    "df = load_dataset('Vivian12300/mathqa_test_French_by_llama-8B-instruct')"
   ]
  },
  {
   "cell_type": "code",
   "execution_count": 49,
   "metadata": {},
   "outputs": [
    {
     "data": {
      "text/plain": [
       "DatasetDict({\n",
       "    train: Dataset({\n",
       "        features: ['Problem', 'Rationale', 'options', 'correct', 'annotated_formula', 'linear_formula', 'category'],\n",
       "        num_rows: 2985\n",
       "    })\n",
       "})"
      ]
     },
     "execution_count": 49,
     "metadata": {},
     "output_type": "execute_result"
    }
   ],
   "source": [
    "df"
   ]
  },
  {
   "cell_type": "code",
   "execution_count": 50,
   "metadata": {},
   "outputs": [
    {
     "name": "stderr",
     "output_type": "stream",
     "text": [
      "Saving the dataset (1/1 shards): 100%|██████████| 100/100 [00:00<00:00, 14354.22 examples/s]\n"
     ]
    }
   ],
   "source": [
    "df['train'].shuffle().select(range(100)).save_to_disk('./dataset_s/raw/math_fr.hf')"
   ]
  },
  {
   "cell_type": "code",
   "execution_count": 52,
   "metadata": {},
   "outputs": [
    {
     "data": {
      "text/plain": [
       "Dataset({\n",
       "    features: ['Problem', 'Rationale', 'options', 'correct', 'annotated_formula', 'linear_formula', 'category'],\n",
       "    num_rows: 100\n",
       "})"
      ]
     },
     "execution_count": 52,
     "metadata": {},
     "output_type": "execute_result"
    }
   ],
   "source": [
    "from datasets import load_from_disk\n",
    "\n",
    "df = load_from_disk('./dataset_s/raw/math_fr.hf')\n",
    "df"
   ]
  },
  {
   "cell_type": "code",
   "execution_count": 55,
   "metadata": {},
   "outputs": [
    {
     "name": "stderr",
     "output_type": "stream",
     "text": [
      "Map: 100%|██████████| 100/100 [00:00<00:00, 9128.37 examples/s]\n"
     ]
    },
    {
     "data": {
      "text/plain": [
       "Dataset({\n",
       "    features: ['Problem', 'Rationale', 'options', 'correct', 'annotated_formula', 'linear_formula', 'category', 'prompt_with_few_shots'],\n",
       "    num_rows: 100\n",
       "})"
      ]
     },
     "execution_count": 55,
     "metadata": {},
     "output_type": "execute_result"
    }
   ],
   "source": [
    "from prompts.fr_math import PREAMBLE, PROMPT\n",
    "df = df.map(lambda example: {\"prompt_with_few_shots\": PREAMBLE + '\\n\\n' +  PROMPT +  '\\n\\nQuestion: ' +  example['Problem'] + '\\n' + 'Réponse: '})\n",
    "df"
   ]
  },
  {
   "cell_type": "code",
   "execution_count": 56,
   "metadata": {},
   "outputs": [
    {
     "name": "stderr",
     "output_type": "stream",
     "text": [
      "Saving the dataset (1/1 shards): 100%|██████████| 100/100 [00:00<00:00, 15192.90 examples/s]\n"
     ]
    }
   ],
   "source": [
    "df.save_to_disk('/Users/maksim/Desktop/interbretability_hack/dataset_s/prepared_samples/math_fr.hf')"
   ]
  },
  {
   "cell_type": "code",
   "execution_count": 33,
   "metadata": {},
   "outputs": [
    {
     "data": {
      "text/plain": [
       "Dataset({\n",
       "    features: ['question', 'answer', 'model_ans_long', 'model_ans_short', 'is_correct', 'prompt_with_few_shots'],\n",
       "    num_rows: 8792\n",
       "})"
      ]
     },
     "execution_count": 33,
     "metadata": {},
     "output_type": "execute_result"
    }
   ],
   "source": [
    "df"
   ]
  },
  {
   "cell_type": "code",
   "execution_count": 34,
   "metadata": {},
   "outputs": [],
   "source": [
    "sampled_dataset = df.shuffle(seed=42).select(range(199))"
   ]
  },
  {
   "cell_type": "code",
   "execution_count": 35,
   "metadata": {},
   "outputs": [
    {
     "name": "stderr",
     "output_type": "stream",
     "text": [
      "Saving the dataset (1/1 shards): 100%|██████████| 199/199 [00:00<00:00, 6601.65 examples/s]\n"
     ]
    }
   ],
   "source": [
    "sampled_dataset.save_to_disk('dataset_s/prepared_samples/gsm8k.hf')"
   ]
  },
  {
   "cell_type": "code",
   "execution_count": 25,
   "metadata": {},
   "outputs": [
    {
     "name": "stderr",
     "output_type": "stream",
     "text": [
      "Saving the dataset (1/1 shards): 100%|██████████| 199/199 [00:00<00:00, 44162.25 examples/s]\n"
     ]
    }
   ],
   "source": [
    "df.save_to_disk('dataset_s/prepared_samples/ru_math.hf')"
   ]
  },
  {
   "cell_type": "code",
   "execution_count": 3,
   "metadata": {},
   "outputs": [
    {
     "name": "stdout",
     "output_type": "stream",
     "text": [
      "В понедельник у Семёна был день рождения, ему подарили некоторое количество рублей. Он решил не тратить все деньги сразу. Со вторника по субботу он тратил каждый день по 20 % от текущей суммы. Сколько рублей он потратил в четверг, если в пятницу его траты составили 384 рубля?\n"
     ]
    }
   ],
   "source": [
    "print(df['task'][1])"
   ]
  },
  {
   "cell_type": "code",
   "execution_count": 4,
   "metadata": {},
   "outputs": [
    {
     "name": "stderr",
     "output_type": "stream",
     "text": [
      "Map: 100%|██████████| 199/199 [00:00<00:00, 9337.05 examples/s]\n"
     ]
    },
    {
     "data": {
      "text/plain": [
       "Dataset({\n",
       "    features: ['task', 'solution', 'short answer', 'class', 'grade', 'prompt_with_few_shots'],\n",
       "    num_rows: 199\n",
       "})"
      ]
     },
     "execution_count": 4,
     "metadata": {},
     "output_type": "execute_result"
    }
   ],
   "source": [
    "from prompts.ru_math import PREAMBLE, PROMPT\n",
    "df = df.map(lambda example: {\"prompt_with_few_shots\": PREAMBLE + '\\n\\n' +  PROMPT +  '\\n\\nВопрос: ' +  example['task'] + '\\n' + 'Ответ: '})\n",
    "df"
   ]
  },
  {
   "cell_type": "code",
   "execution_count": 5,
   "metadata": {},
   "outputs": [
    {
     "name": "stdout",
     "output_type": "stream",
     "text": [
      "Как опытный специалист по решению задач, решите шаг за шагом следующие математические вопросы.\n",
      "\n",
      "Вопрос: В роще 15 деревьев. Сегодня работники посадят деревья в роще. После того, как они закончат  будет 21 дерево. Сколько деревьев сегодня посадили работники ?\n",
      "Ответ: Начнем с 15 деревьев. Позже у нас будет 21 дерево. Разница должна быть в количестве деревьев, которые они посадили. Таким образом, они, должно быть, посадили 21 - 15 = 6 деревьев. Ответ - 6.\n",
      "\n",
      "Вопрос: Если на парковке 3 машины и прибывают еще 2, то сколько машин на парковке?\n",
      "Ответ: На парковке уже 3 машины. Прибывают еще 2. Теперь их 3 + 2 = 5. Ответ - 5.\n",
      "\n",
      "Вопрос: У Лии было 32 шоколадки, а у ее сестры - 42. Если они съели 35, сколько всего у них осталось?\n",
      "Ответ: У Лии было 32 шоколадки, а у сестры Лии - 42. Это означает, что изначально было 32 + 42 = 74 шоколадки. Было съедено 35. Таким образом, в общей сложности у них осталось 74 - 35 = 39 шоколадок. Ответ - 39.\n",
      "\n",
      "Вопрос: У Шона пять игрушек. На Рождество он получил по две игрушки от мамы и папы. Сколько у него сейчас игрушек?\n",
      "Ответ: У него 5 игрушек. Он получил 2 игрушки от мамы, и теперь у него 5 + 2 = 7 игрушек. Потом он получил еще 2 игрушки от папы, итого у него 7 + 2 = 9 игрушек. Ответ - 9.\n",
      "\n",
      "Вопрос: У Оливии есть 23 доллара. Она купила пять рогаликов по 3 доллара каждый. Сколько у нее осталось денег?\n",
      "Ответ: Она купила 5 рогаликов по 3 доллара каждый. Это означает, что она потратила на рогалики 5 * 3 доллара = 15 долларов. Вначале у нее было 23 доллара, так что теперь у нее есть 23 доллара - 15 долларов = 8 долларов. Ответ - 8\n",
      "\n",
      "Вопрос: Девять действительных a1, a2, ..., a9 образуют арифметическую прогрессию. Известно, что a9 в 3 раза больше среднего арифметического этих девяти чисел. Найдите a1, если известно, что a4 = 6.\n",
      "Ответ: \n"
     ]
    }
   ],
   "source": [
    "print(df['prompt_with_few_shots'][0])"
   ]
  },
  {
   "cell_type": "code",
   "execution_count": 6,
   "metadata": {},
   "outputs": [
    {
     "name": "stdout",
     "output_type": "stream",
     "text": [
      "Пусть 𝑎 — первый член прогрессии, а 𝑑 — её разность, тогда девять членов прогрессии равны 𝑎, 𝑎 + 𝑑, 𝑎 + 2𝑑, …, 𝑎 + 8𝑑. \n",
      "Среднее арифметическое чисел в арифметической прогрессии, состоящей из нечётного числа членов, равно среднему из этих чисел, т. е. в данном случае 𝑎 + 4𝑑. \n",
      "Получаем уравнение 𝑎 + 8𝑑 = 3(𝑎 + 4𝑑), откуда следует 𝑎 + 8𝑑 = 3𝑎 + 12𝑑 и 𝑎 = −2𝑑. Тогда 6 = 𝑎4 = 𝑎 + 3𝑑 = 𝑑. Значит, 𝑎1 = −2𝑑 = −12.\n"
     ]
    }
   ],
   "source": [
    "print(df['solution'][0])"
   ]
  },
  {
   "cell_type": "code",
   "execution_count": 7,
   "metadata": {},
   "outputs": [
    {
     "data": {
      "text/plain": [
       "Dataset({\n",
       "    features: ['problem', 'level', 'type', 'solution', 'data_type', 'short_answer', 'prompt_with_few_shots'],\n",
       "    num_rows: 12500\n",
       "})"
      ]
     },
     "execution_count": 7,
     "metadata": {},
     "output_type": "execute_result"
    }
   ],
   "source": [
    "df"
   ]
  },
  {
   "cell_type": "code",
   "execution_count": 7,
   "metadata": {},
   "outputs": [
    {
     "name": "stderr",
     "output_type": "stream",
     "text": [
      "Saving the dataset (1/1 shards): 100%|██████████| 199/199 [00:00<00:00, 30179.21 examples/s]\n"
     ]
    }
   ],
   "source": [
    "df.save_to_disk('./dataset_s/prepared/ru_math.hf')"
   ]
  },
  {
   "cell_type": "code",
   "execution_count": null,
   "metadata": {},
   "outputs": [],
   "source": []
  }
 ],
 "metadata": {
  "kernelspec": {
   "display_name": "Python 3",
   "language": "python",
   "name": "python3"
  },
  "language_info": {
   "codemirror_mode": {
    "name": "ipython",
    "version": 3
   },
   "file_extension": ".py",
   "mimetype": "text/x-python",
   "name": "python",
   "nbconvert_exporter": "python",
   "pygments_lexer": "ipython3",
   "version": "3.10.13"
  }
 },
 "nbformat": 4,
 "nbformat_minor": 2
}
